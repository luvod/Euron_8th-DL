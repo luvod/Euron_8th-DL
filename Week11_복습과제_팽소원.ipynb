{
 "cells": [
  {
   "cell_type": "markdown",
   "id": "701c1fe6",
   "metadata": {
    "id": "701c1fe6"
   },
   "source": [
    "# ✅ 11주차 복습과제: Word2Vec 복습과 RNN/CNN을 이용한 Sentence Classification\n",
    "- 이번 복습과제는 다음과 같이 이루어져있습니다.\n",
    "  1. Word2Vec 복습 (VanillaSkipGram)\n",
    "  2. RNN으로 문장 분류\n",
    "  3. CNN으로 문장 분류"
   ]
  },
  {
   "cell_type": "markdown",
   "id": "ac542c4d",
   "metadata": {
    "id": "ac542c4d"
   },
   "source": [
    "### **1. Word2Vec Skip-gram 모델 구현**"
   ]
  },
  {
   "cell_type": "code",
   "execution_count": 8,
   "id": "gGKhGXGrWs1m",
   "metadata": {
    "id": "gGKhGXGrWs1m"
   },
   "outputs": [],
   "source": [
    "#라이브러리 임포트\n",
    "import torch\n",
    "import torch.nn as nn\n",
    "import torch.optim as optim\n",
    "import numpy as np\n",
    "from collections import defaultdict\n",
    "from sklearn.manifold import TSNE\n",
    "import matplotlib.pyplot as plt"
   ]
  },
  {
   "cell_type": "code",
   "execution_count": 9,
   "id": "5ewtaQD-Wuox",
   "metadata": {
    "id": "5ewtaQD-Wuox"
   },
   "outputs": [],
   "source": [
    "#corpus(말뭉치) 만들기 -> 직접 새로운 말뭉치를 만들어봐도 좋습니다!\n",
    "corpus = [\n",
    "    \"he likes cat\", \"she likes dog\", \"dog barks\", \"cat meows\",\n",
    "    \"he walks the dog\", \"she feeds the cat\", \"the cat sleeps on the sofa\",\n",
    "    \"the dog plays in the yard\", \"they both like animals\", \"animals are friends\",\n",
    "    \"cats are cute\", \"dogs are the best\", \"she plays with the cat\", \"she is not afraid of animals\"\n",
    "]"
   ]
  },
  {
   "cell_type": "code",
   "execution_count": 10,
   "id": "K86VuRYOWyYi",
   "metadata": {
    "id": "K86VuRYOWyYi"
   },
   "outputs": [],
   "source": [
    "# 단어 사전 구축\n",
    "word_list = set(\" \".join(corpus).split())\n",
    "word_to_ix = {word: i for i, word in enumerate(word_list)}\n",
    "ix_to_word = {i: word for word, i in word_to_ix.items()}\n",
    "vocab_size = len(word_to_ix)"
   ]
  },
  {
   "cell_type": "code",
   "execution_count": 11,
   "id": "MYcRgK4fW13e",
   "metadata": {
    "id": "MYcRgK4fW13e"
   },
   "outputs": [],
   "source": [
    "# context-target 쌍 만들기\n",
    "def make_context_target(corpus, window_size=1):\n",
    "    pairs = []\n",
    "    for sentence in corpus:\n",
    "        words = sentence.split()\n",
    "        for i, word in enumerate(words):\n",
    "            for j in range(max(i - window_size, 0), min(i + window_size + 1, len(words))):\n",
    "                if i != j:\n",
    "                    pairs.append((word, words[j]))\n",
    "    return pairs\n",
    "\n",
    "pairs = make_context_target(corpus)\n",
    "\n",
    "def word_to_tensor(word):\n",
    "    return torch.tensor([word_to_ix[word]], dtype=torch.long)"
   ]
  },
  {
   "cell_type": "code",
   "execution_count": 12,
   "id": "T7ZRvhkGW4h4",
   "metadata": {
    "id": "T7ZRvhkGW4h4"
   },
   "outputs": [],
   "source": [
    "#VanillaSkipgram 정의\n",
    "class VanillaSkipgram(nn.Module):\n",
    "    def __init__(self, vocab_size, embedding_dim):\n",
    "        super().__init__()\n",
    "        self.embedding = nn.Embedding(vocab_size, embedding_dim)\n",
    "        self.linear = nn.Linear(embedding_dim, vocab_size)\n",
    "\n",
    "    def forward(self, input_ids):\n",
    "        embeddings = self.embedding(input_ids)\n",
    "        output = self.linear(embeddings)\n",
    "        return output"
   ]
  },
  {
   "cell_type": "code",
   "execution_count": 15,
   "id": "m9JWii9HW8Dq",
   "metadata": {
    "id": "m9JWii9HW8Dq"
   },
   "outputs": [],
   "source": [
    "#Cross Entropy Loss, Adam Optimizer(learning rate = 0.01)를 사용하세요\n",
    "embedding_dim = 10\n",
    "model = VanillaSkipgram(vocab_size, embedding_dim)\n",
    "criterion = nn.CrossEntropyLoss()\n",
    "optimizer = optim.Adam(model.parameters(), lr=0.01)"
   ]
  },
  {
   "cell_type": "code",
   "execution_count": 16,
   "id": "VddKm6WOW9pe",
   "metadata": {
    "colab": {
     "base_uri": "https://localhost:8080/"
    },
    "id": "VddKm6WOW9pe",
    "outputId": "41c59166-0160-4752-d851-971c03a2904d"
   },
   "outputs": [
    {
     "name": "stdout",
     "output_type": "stream",
     "text": [
      "Epoch 20, Loss: 113.1987\n",
      "Epoch 40, Loss: 109.4855\n",
      "Epoch 60, Loss: 108.1464\n",
      "Epoch 80, Loss: 107.3661\n",
      "Epoch 100, Loss: 106.8221\n",
      "Epoch 120, Loss: 106.4066\n",
      "Epoch 140, Loss: 106.0753\n",
      "Epoch 160, Loss: 105.8030\n",
      "Epoch 180, Loss: 105.5772\n",
      "Epoch 200, Loss: 105.3786\n"
     ]
    }
   ],
   "source": [
    "for epoch in range(200):\n",
    "    total_loss = 0\n",
    "    for center, context in pairs:\n",
    "        center_tensor = word_to_tensor(center)\n",
    "        context_tensor = word_to_tensor(context)\n",
    "        optimizer.zero_grad()\n",
    "        outputs = model(center_tensor)\n",
    "        loss = criterion(outputs, context_tensor)\n",
    "        loss.backward()\n",
    "        optimizer.step()\n",
    "        total_loss += loss.item()\n",
    "    if (epoch + 1) % 20 == 0:\n",
    "        print(f\"Epoch {epoch+1}, Loss: {total_loss:.4f}\")\n"
   ]
  },
  {
   "cell_type": "code",
   "execution_count": 17,
   "id": "838929bd",
   "metadata": {
    "colab": {
     "base_uri": "https://localhost:8080/"
    },
    "id": "838929bd",
    "outputId": "4ec70cf5-e625-4ff9-bfaa-7cb74b0868a1"
   },
   "outputs": [
    {
     "name": "stdout",
     "output_type": "stream",
     "text": [
      "'dog'의 임베딩 벡터:\n",
      "tensor([[ 0.4706, -0.1413, -0.4247, -0.4644,  0.3469,  1.9266,  1.4598,  0.6784,\n",
      "         -0.3688,  0.2281]], grad_fn=<EmbeddingBackward0>)\n"
     ]
    }
   ],
   "source": [
    "# 결과 확인\n",
    "word = \"dog\"  #다른 단어로 바꿔서 확인해볼 수도 있습니다\n",
    "word_tensor = word_to_tensor(word)\n",
    "embedding = model.embedding(word_tensor)\n",
    "print(f\"'{word}'의 임베딩 벡터:\")\n",
    "print(embedding)"
   ]
  },
  {
   "cell_type": "code",
   "execution_count": 18,
   "id": "mT3W1N4sYc2c",
   "metadata": {
    "id": "mT3W1N4sYc2c"
   },
   "outputs": [],
   "source": [
    "#시각화하기\n",
    "embedding_matrix = model.embedding.weight.data.cpu().numpy()\n",
    "\n",
    "words = list(word_to_ix.keys())[:20]\n",
    "vectors = np.array([embedding_matrix[word_to_ix[word]] for word in words])\n",
    "\n",
    "tsne = TSNE(n_components=2, perplexity=5, max_iter=300, random_state=0)\n",
    "reduced = tsne.fit_transform(vectors)"
   ]
  },
  {
   "cell_type": "code",
   "execution_count": 19,
   "id": "bfA10yjMYgkG",
   "metadata": {
    "colab": {
     "base_uri": "https://localhost:8080/",
     "height": 545
    },
    "id": "bfA10yjMYgkG",
    "outputId": "aaa5327b-173e-4b54-b435-95cf83f30bd0"
   },
   "outputs": [
    {
     "data": {
      "image/png": "[encoded data removed]",
      "text/plain": [
       "<Figure size 800x600 with 1 Axes>"
      ]
     },
     "metadata": {},
     "output_type": "display_data"
    }
   ],
   "source": [
    "plt.figure(figsize=(8, 6))\n",
    "for i, word in enumerate(words):\n",
    "    x, y = reduced[i]\n",
    "    plt.scatter(x, y)\n",
    "    plt.text(x + 0.01, y + 0.01, word, fontsize=10)\n",
    "plt.title(\"Word Embeddings\")\n",
    "plt.grid(True)\n",
    "plt.show()"
   ]
  },
  {
   "cell_type": "markdown",
   "id": "9a1e20dd",
   "metadata": {
    "id": "9a1e20dd"
   },
   "source": [
    "### **2. RNN을 활용한 문장 분류 모델 구현**"
   ]
  },
  {
   "cell_type": "code",
   "execution_count": 20,
   "id": "15ONyV7jW_r2",
   "metadata": {
    "id": "15ONyV7jW_r2"
   },
   "outputs": [],
   "source": [
    "import torch.nn.functional as F"
   ]
  },
  {
   "cell_type": "code",
   "execution_count": 21,
   "id": "aR3Zi9YXXClL",
   "metadata": {
    "id": "aR3Zi9YXXClL"
   },
   "outputs": [],
   "source": [
    "train_data = [\n",
    "    (\"I love this movie\", 1),\n",
    "    (\"This film is terrible\", 0),\n",
    "    (\"I enjoyed it\", 1),\n",
    "    (\"Not good\", 0),\n",
    "    (\"This movie was fantastic and inspiring\", 1),\n",
    "    (\"Absolutely horrible experience\", 0),\n",
    "    (\"What a wonderful story and cast\", 1),\n",
    "    (\"The plot was dull and boring\", 0),\n",
    "    (\"A truly uplifting journey\", 1),\n",
    "    (\"It was a waste of time\", 0),\n",
    "    (\"I think they could have done better\", 0),\n",
    "    (\"It was really enjoyable\", 1),\n",
    "    (\"This became my favorite movie\", 1),\n",
    "    (\"I recommended this to all of my friends\", 1),\n",
    "    (\"My son could film a better movie than this\", 0),\n",
    "    (\"It was underwhelming\", 0)\n",
    "]"
   ]
  },
  {
   "cell_type": "code",
   "execution_count": 22,
   "id": "N0kAf9wTXEwm",
   "metadata": {
    "id": "N0kAf9wTXEwm"
   },
   "outputs": [],
   "source": [
    "# 단어 사전\n",
    "word_set = set()\n",
    "for sent, _ in train_data:\n",
    "    for word in sent.lower().split():\n",
    "        word_set.add(word)\n",
    "\n",
    "word_to_ix = {word: i+1 for i, word in enumerate(word_set)}  # 0: padding\n",
    "vocab_size = len(word_to_ix) + 1\n",
    "\n",
    "def encode_sentence(sent, max_len=10):\n",
    "    tokens = [word_to_ix.get(word, 0) for word in sent.lower().split()]\n",
    "    tokens += [0] * (max_len - len(tokens))\n",
    "    return torch.tensor(tokens[:max_len])\n",
    "\n",
    "X = torch.stack([encode_sentence(s) for s, _ in train_data])\n",
    "y = torch.tensor([label for _, label in train_data])"
   ]
  },
  {
   "cell_type": "code",
   "execution_count": 23,
   "id": "85a5kiq9XJY_",
   "metadata": {
    "id": "85a5kiq9XJY_"
   },
   "outputs": [],
   "source": [
    "class RNNClassifier(nn.Module):\n",
    "    def __init__(self, vocab_size, embedding_dim, hidden_dim):\n",
    "        super().__init__()\n",
    "        self.embedding = nn.Embedding(vocab_size, embedding_dim, padding_idx=0)\n",
    "        self.rnn = nn.RNN(embedding_dim, hidden_dim, batch_first=True)\n",
    "        self.fc = nn.Linear(hidden_dim, 2)\n",
    "\n",
    "    def forward(self, inputs):\n",
    "        embeddings = self.embedding(inputs)\n",
    "        output, _ = self.rnn(embeddings)\n",
    "        return self.fc(_.squeeze(0))"
   ]
  },
  {
   "cell_type": "code",
   "execution_count": 24,
   "id": "35f26a14",
   "metadata": {
    "colab": {
     "base_uri": "https://localhost:8080/"
    },
    "id": "35f26a14",
    "outputId": "a5e0f2db-7785-4e53-b3be-81039f659654"
   },
   "outputs": [
    {
     "name": "stdout",
     "output_type": "stream",
     "text": [
      "Epoch 10, Loss: 0.0232\n",
      "Epoch 20, Loss: 0.0004\n",
      "Epoch 30, Loss: 0.0001\n",
      "예측 결과: [1, 0, 1, 0, 1, 0, 1, 0, 1, 0, 0, 1, 1, 1, 0, 0]\n",
      "실제 정답: [1, 0, 1, 0, 1, 0, 1, 0, 1, 0, 0, 1, 1, 1, 0, 0]\n"
     ]
    }
   ],
   "source": [
    "model = RNNClassifier(vocab_size, embedding_dim=16, hidden_dim=32)\n",
    "loss_fn = nn.CrossEntropyLoss()\n",
    "optimizer = optim.Adam(model.parameters(), lr=0.01)\n",
    "\n",
    "for epoch in range(30):\n",
    "    optimizer.zero_grad()\n",
    "    outputs = model(X)\n",
    "    loss = loss_fn(outputs, y)\n",
    "    loss.backward()\n",
    "    optimizer.step()\n",
    "    if (epoch + 1) % 10 == 0:\n",
    "        print(f\"Epoch {epoch+1}, Loss: {loss.item():.4f}\")\n",
    "\n",
    "preds = torch.argmax(model(X), dim=1)\n",
    "print(\"예측 결과:\", preds.tolist())\n",
    "print(\"실제 정답:\", y.tolist())\n"
   ]
  },
  {
   "cell_type": "markdown",
   "id": "d6c0c39e",
   "metadata": {
    "id": "d6c0c39e"
   },
   "source": [
    "### **3. CNN을 활용한 문장 분류 모델 구현**"
   ]
  },
  {
   "cell_type": "code",
   "execution_count": 25,
   "id": "IyuEYpsSXNy5",
   "metadata": {
    "id": "IyuEYpsSXNy5"
   },
   "outputs": [],
   "source": [
    "#Conv1d로 정의하세요\n",
    "class CNNClassifier(nn.Module):\n",
    "    def __init__(self, vocab_size, embedding_dim, num_filters, kernel_size):\n",
    "        super().__init__()\n",
    "        self.embedding = nn.Embedding(vocab_size, embedding_dim, padding_idx=0)\n",
    "        self.conv = nn.Conv1d(embedding_dim, num_filters, kernel_size)\n",
    "        self.pool = nn.AdaptiveMaxPool1d(1)\n",
    "        self.fc = nn.Linear(num_filters, 2)\n",
    "\n",
    "    def forward(self, x):\n",
    "        x = self.embedding(x).permute(0, 2, 1)  #(B, E, T)\n",
    "        x = F.relu(self.conv(x))                #(B, F, T-k+1)\n",
    "        x = self.pool(x).squeeze(2)             #(B, F)\n",
    "        return self.fc(x)"
   ]
  },
  {
   "cell_type": "code",
   "execution_count": 26,
   "id": "c391971e",
   "metadata": {
    "colab": {
     "base_uri": "https://localhost:8080/"
    },
    "id": "c391971e",
    "outputId": "db02cbeb-ccb1-4552-a2c3-1b11fd2f966f"
   },
   "outputs": [
    {
     "name": "stdout",
     "output_type": "stream",
     "text": [
      "Epoch 10, Loss: 0.0993\n",
      "Epoch 20, Loss: 0.0019\n",
      "Epoch 30, Loss: 0.0001\n",
      "예측 결과: [1, 0, 1, 0, 1, 0, 1, 0, 1, 0, 0, 1, 1, 1, 0, 0]\n",
      "실제 정답: [1, 0, 1, 0, 1, 0, 1, 0, 1, 0, 0, 1, 1, 1, 0, 0]\n"
     ]
    }
   ],
   "source": [
    "model = CNNClassifier(vocab_size, embedding_dim=16, num_filters=32, kernel_size=3)\n",
    "loss_fn = nn.CrossEntropyLoss()\n",
    "optimizer = optim.Adam(model.parameters(), lr=0.01)\n",
    "\n",
    "for epoch in range(30):\n",
    "    optimizer.zero_grad()\n",
    "    outputs = model(X)\n",
    "    loss = loss_fn(outputs, y)\n",
    "    loss.backward()\n",
    "    optimizer.step()\n",
    "    if (epoch + 1) % 10 == 0:\n",
    "        print(f\"Epoch {epoch+1}, Loss: {loss.item():.4f}\")\n",
    "\n",
    "preds = torch.argmax(model(X), dim=1)\n",
    "print(\"예측 결과:\", preds.tolist())\n",
    "print(\"실제 정답:\", y.tolist())\n"
   ]
  },
  {
   "cell_type": "code",
   "execution_count": null,
   "id": "097SRRbMT4Ez",
   "metadata": {
    "id": "097SRRbMT4Ez"
   },
   "outputs": [],
   "source": []
  }
 ],
 "metadata": {
  "colab": {
   "provenance": []
  },
  "kernelspec": {
   "display_name": "euron",
   "language": "python",
   "name": "python3"
  },
  "language_info": {
   "codemirror_mode": {
    "name": "ipython",
    "version": 3
   },
   "file_extension": ".py",
   "mimetype": "text/x-python",
   "name": "python",
   "nbconvert_exporter": "python",
   "pygments_lexer": "ipython3",
   "version": "3.10.16"
  }
 },
 "nbformat": 4,
 "nbformat_minor": 5
}
